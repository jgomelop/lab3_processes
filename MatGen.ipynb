{
 "cells": [
  {
   "cell_type": "code",
   "execution_count": 8,
   "id": "64596e2d-a226-4968-864e-5812b30f0460",
   "metadata": {},
   "outputs": [],
   "source": [
    "import numpy as np"
   ]
  },
  {
   "cell_type": "code",
   "execution_count": 11,
   "id": "3129e4ea-5d97-4766-b685-a1f23224e639",
   "metadata": {},
   "outputs": [],
   "source": [
    "M, N = 12, 15\n",
    "A = np.random.rand(M,N)\n",
    "M, N = 15, 10\n",
    "B = np.random.rand(M,N)\n",
    "C = np.matmul(A, B)"
   ]
  },
  {
   "cell_type": "code",
   "execution_count": 14,
   "id": "15b126a9-2346-4070-ad6b-5ab045c02126",
   "metadata": {},
   "outputs": [],
   "source": [
    "f1 = 'A.txt'\n",
    "try:\n",
    "    with open(f1, 'w') as file:\n",
    "        file.write('')\n",
    "except FileExistsError:\n",
    "    print('The file ' + f1 + ' already exists')\n",
    "\n",
    "f2 = 'B.txt'\n",
    "try:\n",
    "    with open(f2, 'w') as file:\n",
    "        file.write('')\n",
    "except FileExistsError:\n",
    "    print('The file ' + f2 + ' already exists')\n",
    "\n",
    "f3 = 'C.txt'\n",
    "try:\n",
    "    with open(f3, 'w') as file:\n",
    "        file.write('')\n",
    "except FileExistsError:\n",
    "    print('The file ' + f3 + ' already exists')\n",
    "\n",
    "with open('A.txt', 'w') as testfile:\n",
    "    for row in A:\n",
    "        testfile.write(' '.join([str(a) for a in row]) + '\\n')\n",
    "        \n",
    "with open('B.txt', 'w') as testfile:\n",
    "    for row in B:\n",
    "        testfile.write(' '.join([str(a) for a in row]) + '\\n')\n",
    "\n",
    "with open('C.txt', 'w') as testfile:\n",
    "    for row in C:\n",
    "        testfile.write(' '.join([str(a) for a in row]) + '\\n')"
   ]
  },
  {
   "cell_type": "code",
   "execution_count": null,
   "id": "7d592a13-2d71-4c7c-b4e0-8b594f5725f8",
   "metadata": {},
   "outputs": [],
   "source": []
  }
 ],
 "metadata": {
  "kernelspec": {
   "display_name": "Python 3 (ipykernel)",
   "language": "python",
   "name": "python3"
  },
  "language_info": {
   "codemirror_mode": {
    "name": "ipython",
    "version": 3
   },
   "file_extension": ".py",
   "mimetype": "text/x-python",
   "name": "python",
   "nbconvert_exporter": "python",
   "pygments_lexer": "ipython3",
   "version": "3.12.5"
  }
 },
 "nbformat": 4,
 "nbformat_minor": 5
}
